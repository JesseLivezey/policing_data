{
 "cells": [
  {
   "cell_type": "code",
   "execution_count": 126,
   "metadata": {
    "collapsed": true
   },
   "outputs": [],
   "source": [
    "import os\n",
    "\n",
    "import pandas as pd\n",
    "import matplotlib.pyplot as plt\n",
    "%matplotlib inline\n",
    "\n",
    "from importlib import reload\n",
    "\n",
    "import analysis"
   ]
  },
  {
   "cell_type": "code",
   "execution_count": 127,
   "metadata": {
    "collapsed": true
   },
   "outputs": [],
   "source": [
    "local_data = pd.read_csv('MapFileData-WithCountyResultsAndCovariates.csv')\n",
    "national_data = pd.read_csv('national_data.csv')\n",
    "\n",
    "before = 'm.RR_{}_Armed_Versus_Unarmed'\n",
    "after = 'm.RR_{}_Unarmed_Versus_Armed'\n",
    "\n",
    "# Create one more column for simplicity with inverse ratios\n",
    "for r in ['Black', 'White', 'Hispanic']:\n",
    "    local_data[after.format(r)] = 1. / local_data[before.format(r)]\n",
    "    national_data[after.format(r)] = 1. / national_data[before.format(r)]"
   ]
  },
  {
   "cell_type": "code",
   "execution_count": 128,
   "metadata": {},
   "outputs": [
    {
     "data": {
      "text/html": [
       "<div>\n",
       "<style>\n",
       "    .dataframe thead tr:only-child th {\n",
       "        text-align: right;\n",
       "    }\n",
       "\n",
       "    .dataframe thead th {\n",
       "        text-align: left;\n",
       "    }\n",
       "\n",
       "    .dataframe tbody tr th {\n",
       "        vertical-align: top;\n",
       "    }\n",
       "</style>\n",
       "<table border=\"1\" class=\"dataframe\">\n",
       "  <thead>\n",
       "    <tr style=\"text-align: right;\">\n",
       "      <th></th>\n",
       "      <th>m.RR_Black_Armed_Versus_Unarmed</th>\n",
       "      <th>m.RR_White_Armed_Versus_Unarmed</th>\n",
       "      <th>m.RR_Hispanic_Armed_Versus_Unarmed</th>\n",
       "      <th>m.RR_Black_Armed_Versus_White_Armed</th>\n",
       "      <th>m.RR_Hispanic_Armed_Versus_White_Armed</th>\n",
       "      <th>m.RR_Black_Unarmed_Versus_White_Unarmed</th>\n",
       "      <th>m.RR_Hispanic_Unarmed_Versus_White_Unarmed</th>\n",
       "      <th>m.RR_Black_Unarmed_Versus_White_Armed</th>\n",
       "      <th>m.RR_Hispanic_Unarmed_Versus_White_Armed</th>\n",
       "      <th>m.RR_Black_Unarmed_Versus_Armed</th>\n",
       "      <th>m.RR_White_Unarmed_Versus_Armed</th>\n",
       "      <th>m.RR_Hispanic_Unarmed_Versus_Armed</th>\n",
       "    </tr>\n",
       "  </thead>\n",
       "  <tbody>\n",
       "    <tr>\n",
       "      <th>246</th>\n",
       "      <td>3.403296</td>\n",
       "      <td>4.283374</td>\n",
       "      <td>4.563916</td>\n",
       "      <td>3.481455</td>\n",
       "      <td>2.247141</td>\n",
       "      <td>4.727985</td>\n",
       "      <td>2.090922</td>\n",
       "      <td>1.01136</td>\n",
       "      <td>0.469037</td>\n",
       "      <td>0.293833</td>\n",
       "      <td>0.233461</td>\n",
       "      <td>0.21911</td>\n",
       "    </tr>\n",
       "  </tbody>\n",
       "</table>\n",
       "</div>"
      ],
      "text/plain": [
       "     m.RR_Black_Armed_Versus_Unarmed  m.RR_White_Armed_Versus_Unarmed  \\\n",
       "246                         3.403296                         4.283374   \n",
       "\n",
       "     m.RR_Hispanic_Armed_Versus_Unarmed  m.RR_Black_Armed_Versus_White_Armed  \\\n",
       "246                            4.563916                             3.481455   \n",
       "\n",
       "     m.RR_Hispanic_Armed_Versus_White_Armed  \\\n",
       "246                                2.247141   \n",
       "\n",
       "     m.RR_Black_Unarmed_Versus_White_Unarmed  \\\n",
       "246                                 4.727985   \n",
       "\n",
       "     m.RR_Hispanic_Unarmed_Versus_White_Unarmed  \\\n",
       "246                                    2.090922   \n",
       "\n",
       "     m.RR_Black_Unarmed_Versus_White_Armed  \\\n",
       "246                                1.01136   \n",
       "\n",
       "     m.RR_Hispanic_Unarmed_Versus_White_Armed  \\\n",
       "246                                  0.469037   \n",
       "\n",
       "     m.RR_Black_Unarmed_Versus_Armed  m.RR_White_Unarmed_Versus_Armed  \\\n",
       "246                         0.293833                         0.233461   \n",
       "\n",
       "     m.RR_Hispanic_Unarmed_Versus_Armed  \n",
       "246                             0.21911  "
      ]
     },
     "execution_count": 128,
     "metadata": {},
     "output_type": "execute_result"
    }
   ],
   "source": [
    "county = 'San Francisco'\n",
    "local_data.loc[local_data['county'] == county][national_data.columns]"
   ]
  },
  {
   "cell_type": "code",
   "execution_count": 129,
   "metadata": {},
   "outputs": [
    {
     "data": {
      "text/html": [
       "<div>\n",
       "<style>\n",
       "    .dataframe thead tr:only-child th {\n",
       "        text-align: right;\n",
       "    }\n",
       "\n",
       "    .dataframe thead th {\n",
       "        text-align: left;\n",
       "    }\n",
       "\n",
       "    .dataframe tbody tr th {\n",
       "        vertical-align: top;\n",
       "    }\n",
       "</style>\n",
       "<table border=\"1\" class=\"dataframe\">\n",
       "  <thead>\n",
       "    <tr style=\"text-align: right;\">\n",
       "      <th></th>\n",
       "      <th>m.RR_Black_Armed_Versus_Unarmed</th>\n",
       "      <th>m.RR_White_Armed_Versus_Unarmed</th>\n",
       "      <th>m.RR_Hispanic_Armed_Versus_Unarmed</th>\n",
       "      <th>m.RR_Black_Armed_Versus_White_Armed</th>\n",
       "      <th>m.RR_Hispanic_Armed_Versus_White_Armed</th>\n",
       "      <th>m.RR_Black_Unarmed_Versus_White_Unarmed</th>\n",
       "      <th>m.RR_Hispanic_Unarmed_Versus_White_Unarmed</th>\n",
       "      <th>m.RR_Black_Unarmed_Versus_White_Armed</th>\n",
       "      <th>m.RR_Hispanic_Unarmed_Versus_White_Armed</th>\n",
       "      <th>m.RR_Black_Unarmed_Versus_Armed</th>\n",
       "      <th>m.RR_White_Unarmed_Versus_Armed</th>\n",
       "      <th>m.RR_Hispanic_Unarmed_Versus_Armed</th>\n",
       "    </tr>\n",
       "  </thead>\n",
       "  <tbody>\n",
       "    <tr>\n",
       "      <th>0</th>\n",
       "      <td>2.79</td>\n",
       "      <td>3.33</td>\n",
       "      <td>3.08</td>\n",
       "      <td>2.94</td>\n",
       "      <td>1.57</td>\n",
       "      <td>3.49</td>\n",
       "      <td>1.67</td>\n",
       "      <td>1.04</td>\n",
       "      <td>0.52</td>\n",
       "      <td>0.358423</td>\n",
       "      <td>0.3003</td>\n",
       "      <td>0.324675</td>\n",
       "    </tr>\n",
       "  </tbody>\n",
       "</table>\n",
       "</div>"
      ],
      "text/plain": [
       "   m.RR_Black_Armed_Versus_Unarmed  m.RR_White_Armed_Versus_Unarmed  \\\n",
       "0                             2.79                             3.33   \n",
       "\n",
       "   m.RR_Hispanic_Armed_Versus_Unarmed  m.RR_Black_Armed_Versus_White_Armed  \\\n",
       "0                                3.08                                 2.94   \n",
       "\n",
       "   m.RR_Hispanic_Armed_Versus_White_Armed  \\\n",
       "0                                    1.57   \n",
       "\n",
       "   m.RR_Black_Unarmed_Versus_White_Unarmed  \\\n",
       "0                                     3.49   \n",
       "\n",
       "   m.RR_Hispanic_Unarmed_Versus_White_Unarmed  \\\n",
       "0                                        1.67   \n",
       "\n",
       "   m.RR_Black_Unarmed_Versus_White_Armed  \\\n",
       "0                                   1.04   \n",
       "\n",
       "   m.RR_Hispanic_Unarmed_Versus_White_Armed  m.RR_Black_Unarmed_Versus_Armed  \\\n",
       "0                                      0.52                         0.358423   \n",
       "\n",
       "   m.RR_White_Unarmed_Versus_Armed  m.RR_Hispanic_Unarmed_Versus_Armed  \n",
       "0                           0.3003                            0.324675  "
      ]
     },
     "execution_count": 129,
     "metadata": {},
     "output_type": "execute_result"
    }
   ],
   "source": [
    "national_data"
   ]
  },
  {
   "cell_type": "markdown",
   "metadata": {},
   "source": [
    "# Armed vs. Armed"
   ]
  },
  {
   "cell_type": "code",
   "execution_count": 130,
   "metadata": {
    "collapsed": true
   },
   "outputs": [],
   "source": [
    "features = ['m.RR_Black_Armed_Versus_White_Armed', 'm.RR_Hispanic_Armed_Versus_White_Armed']"
   ]
  },
  {
   "cell_type": "code",
   "execution_count": 131,
   "metadata": {
    "scrolled": false
   },
   "outputs": [
    {
     "name": "stdout",
     "output_type": "stream",
     "text": [
      "[3.5, 2.5, 1, 0]\n",
      "[2.9399999999999999, 3.4814549819999998, 1.5700000000000001, 2.2471410730000003]\n"
     ]
    },
    {
     "data": {
      "image/png": "[encoded data removed]",
      "text/plain": [
       "<matplotlib.figure.Figure at 0x1181ed320>"
      ]
     },
     "metadata": {},
     "output_type": "display_data"
    }
   ],
   "source": [
    "reload(analysis)\n",
    "plt.close()\n",
    "f, ax = plt.subplots(1, figsize=(5, 5))\n",
    "\n",
    "analysis.make_barplot(national_data, local_data, county, features, ax)\n",
    "f.tight_layout()\n",
    "plt.savefig('{}_{}.png'.format(county, 'A-A'), dpi=300)"
   ]
  },
  {
   "cell_type": "markdown",
   "metadata": {},
   "source": [
    "# Unarmed vs. Armed"
   ]
  },
  {
   "cell_type": "code",
   "execution_count": 132,
   "metadata": {
    "collapsed": true
   },
   "outputs": [],
   "source": [
    "features = ['m.RR_Black_Unarmed_Versus_White_Armed',\n",
    "            'm.RR_Hispanic_Unarmed_Versus_White_Armed',\n",
    "            'm.RR_White_Unarmed_Versus_Armed']"
   ]
  },
  {
   "cell_type": "code",
   "execution_count": 133,
   "metadata": {},
   "outputs": [
    {
     "name": "stdout",
     "output_type": "stream",
     "text": [
      "[6.0, 5.0, 3.5, 2.5, 1, 0]\n",
      "[1.04, 1.0113597080000001, 0.52000000000000002, 0.469036536, 0.3003003003003003, 0.23346079256041211]\n"
     ]
    },
    {
     "data": {
      "image/png": "[encoded data removed]",
      "text/plain": [
       "<matplotlib.figure.Figure at 0x11c41e358>"
      ]
     },
     "metadata": {},
     "output_type": "display_data"
    }
   ],
   "source": [
    "reload(analysis)\n",
    "plt.close()\n",
    "f, ax = plt.subplots(1, figsize=(5, 7))\n",
    "\n",
    "analysis.make_barplot(national_data, local_data, county, features, ax)\n",
    "f.tight_layout()\n",
    "plt.savefig('{}_{}.png'.format(county, 'U-A'), dpi=300)"
   ]
  },
  {
   "cell_type": "markdown",
   "metadata": {},
   "source": [
    "# Unarmed vs. Unarmed"
   ]
  },
  {
   "cell_type": "code",
   "execution_count": 134,
   "metadata": {
    "collapsed": true
   },
   "outputs": [],
   "source": [
    "features = ['m.RR_Black_Unarmed_Versus_White_Unarmed', 'm.RR_Hispanic_Unarmed_Versus_White_Unarmed']"
   ]
  },
  {
   "cell_type": "code",
   "execution_count": 135,
   "metadata": {},
   "outputs": [
    {
     "name": "stdout",
     "output_type": "stream",
     "text": [
      "[3.5, 2.5, 1, 0]\n",
      "[3.4900000000000002, 4.7279854349999999, 1.6699999999999999, 2.0909221609999999]\n"
     ]
    },
    {
     "data": {
      "image/png": "[encoded data removed]",
      "text/plain": [
       "<matplotlib.figure.Figure at 0x1175cd860>"
      ]
     },
     "metadata": {},
     "output_type": "display_data"
    }
   ],
   "source": [
    "reload(analysis)\n",
    "plt.close()\n",
    "f, ax = plt.subplots(1, figsize=(5, 5))\n",
    "\n",
    "analysis.make_barplot(national_data, local_data, county, features, ax)\n",
    "f.tight_layout()\n",
    "plt.savefig('{}_{}.png'.format(county, 'U-U'), dpi=300)"
   ]
  },
  {
   "cell_type": "code",
   "execution_count": null,
   "metadata": {
    "collapsed": true
   },
   "outputs": [],
   "source": []
  }
 ],
 "metadata": {
  "kernelspec": {
   "display_name": "Python [default]",
   "language": "python",
   "name": "python3"
  },
  "language_info": {
   "codemirror_mode": {
    "name": "ipython",
    "version": 3
   },
   "file_extension": ".py",
   "mimetype": "text/x-python",
   "name": "python",
   "nbconvert_exporter": "python",
   "pygments_lexer": "ipython3",
   "version": "3.5.3"
  }
 },
 "nbformat": 4,
 "nbformat_minor": 2
}

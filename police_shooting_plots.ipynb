{
 "cells": [
  {
   "cell_type": "code",
   "execution_count": 324,
   "metadata": {
    "collapsed": true
   },
   "outputs": [],
   "source": [
    "import os\n",
    "\n",
    "import numpy as np\n",
    "import pandas as pd\n",
    "import matplotlib.pyplot as plt\n",
    "%matplotlib inline\n",
    "\n",
    "from importlib import reload\n",
    "\n",
    "import analysis"
   ]
  },
  {
   "cell_type": "code",
   "execution_count": 325,
   "metadata": {
    "collapsed": true
   },
   "outputs": [],
   "source": [
    "local_data = pd.read_csv('MapFileData-WithCountyResultsAndCovariates.csv')\n",
    "national_data = pd.read_csv('national_data.csv')\n",
    "\n",
    "before = 'm.RR_{}_Armed_Versus_Unarmed'\n",
    "after = 'm.RR_{}_Unarmed_Versus_Armed'\n",
    "\n",
    "# Create one more column for simplicity with inverse ratios\n",
    "for r in ['Black', 'White', 'Hispanic']:\n",
    "    local_data[after.format(r)] = 1. / local_data[before.format(r)]\n",
    "    national_data[after.format(r)] = 1. / national_data[before.format(r)]"
   ]
  },
  {
   "cell_type": "code",
   "execution_count": 326,
   "metadata": {},
   "outputs": [
    {
     "data": {
      "text/html": [
       "<div>\n",
       "<style>\n",
       "    .dataframe thead tr:only-child th {\n",
       "        text-align: right;\n",
       "    }\n",
       "\n",
       "    .dataframe thead th {\n",
       "        text-align: left;\n",
       "    }\n",
       "\n",
       "    .dataframe tbody tr th {\n",
       "        vertical-align: top;\n",
       "    }\n",
       "</style>\n",
       "<table border=\"1\" class=\"dataframe\">\n",
       "  <thead>\n",
       "    <tr style=\"text-align: right;\">\n",
       "      <th></th>\n",
       "      <th>m.RR_Black_Armed_Versus_Unarmed</th>\n",
       "      <th>m.RR_White_Armed_Versus_Unarmed</th>\n",
       "      <th>m.RR_Hispanic_Armed_Versus_Unarmed</th>\n",
       "      <th>m.RR_Black_Armed_Versus_White_Armed</th>\n",
       "      <th>m.RR_Hispanic_Armed_Versus_White_Armed</th>\n",
       "      <th>m.RR_Black_Unarmed_Versus_White_Unarmed</th>\n",
       "      <th>m.RR_Hispanic_Unarmed_Versus_White_Unarmed</th>\n",
       "      <th>m.RR_Black_Unarmed_Versus_White_Armed</th>\n",
       "      <th>m.RR_Hispanic_Unarmed_Versus_White_Armed</th>\n",
       "      <th>m.RR_Black_Unarmed_Versus_Armed</th>\n",
       "      <th>m.RR_White_Unarmed_Versus_Armed</th>\n",
       "      <th>m.RR_Hispanic_Unarmed_Versus_Armed</th>\n",
       "    </tr>\n",
       "  </thead>\n",
       "  <tbody>\n",
       "    <tr>\n",
       "      <th>209</th>\n",
       "      <td>4.407764</td>\n",
       "      <td>2.115937</td>\n",
       "      <td>2.747014</td>\n",
       "      <td>5.710263</td>\n",
       "      <td>1.529958</td>\n",
       "      <td>2.474265</td>\n",
       "      <td>1.133655</td>\n",
       "      <td>1.264092</td>\n",
       "      <td>0.517964</td>\n",
       "      <td>0.226872</td>\n",
       "      <td>0.472604</td>\n",
       "      <td>0.364032</td>\n",
       "    </tr>\n",
       "  </tbody>\n",
       "</table>\n",
       "</div>"
      ],
      "text/plain": [
       "     m.RR_Black_Armed_Versus_Unarmed  m.RR_White_Armed_Versus_Unarmed  \\\n",
       "209                         4.407764                         2.115937   \n",
       "\n",
       "     m.RR_Hispanic_Armed_Versus_Unarmed  m.RR_Black_Armed_Versus_White_Armed  \\\n",
       "209                            2.747014                             5.710263   \n",
       "\n",
       "     m.RR_Hispanic_Armed_Versus_White_Armed  \\\n",
       "209                                1.529958   \n",
       "\n",
       "     m.RR_Black_Unarmed_Versus_White_Unarmed  \\\n",
       "209                                 2.474265   \n",
       "\n",
       "     m.RR_Hispanic_Unarmed_Versus_White_Unarmed  \\\n",
       "209                                    1.133655   \n",
       "\n",
       "     m.RR_Black_Unarmed_Versus_White_Armed  \\\n",
       "209                               1.264092   \n",
       "\n",
       "     m.RR_Hispanic_Unarmed_Versus_White_Armed  \\\n",
       "209                                  0.517964   \n",
       "\n",
       "     m.RR_Black_Unarmed_Versus_Armed  m.RR_White_Unarmed_Versus_Armed  \\\n",
       "209                         0.226872                         0.472604   \n",
       "\n",
       "     m.RR_Hispanic_Unarmed_Versus_Armed  \n",
       "209                            0.364032  "
      ]
     },
     "execution_count": 326,
     "metadata": {},
     "output_type": "execute_result"
    }
   ],
   "source": [
    "county = 'Alameda'\n",
    "local_data.loc[local_data['county'] == county][national_data.columns]"
   ]
  },
  {
   "cell_type": "code",
   "execution_count": 327,
   "metadata": {},
   "outputs": [
    {
     "data": {
      "text/html": [
       "<div>\n",
       "<style>\n",
       "    .dataframe thead tr:only-child th {\n",
       "        text-align: right;\n",
       "    }\n",
       "\n",
       "    .dataframe thead th {\n",
       "        text-align: left;\n",
       "    }\n",
       "\n",
       "    .dataframe tbody tr th {\n",
       "        vertical-align: top;\n",
       "    }\n",
       "</style>\n",
       "<table border=\"1\" class=\"dataframe\">\n",
       "  <thead>\n",
       "    <tr style=\"text-align: right;\">\n",
       "      <th></th>\n",
       "      <th>m.RR_Black_Armed_Versus_Unarmed</th>\n",
       "      <th>m.RR_White_Armed_Versus_Unarmed</th>\n",
       "      <th>m.RR_Hispanic_Armed_Versus_Unarmed</th>\n",
       "      <th>m.RR_Black_Armed_Versus_White_Armed</th>\n",
       "      <th>m.RR_Hispanic_Armed_Versus_White_Armed</th>\n",
       "      <th>m.RR_Black_Unarmed_Versus_White_Unarmed</th>\n",
       "      <th>m.RR_Hispanic_Unarmed_Versus_White_Unarmed</th>\n",
       "      <th>m.RR_Black_Unarmed_Versus_White_Armed</th>\n",
       "      <th>m.RR_Hispanic_Unarmed_Versus_White_Armed</th>\n",
       "      <th>m.RR_Black_Unarmed_Versus_Armed</th>\n",
       "      <th>m.RR_White_Unarmed_Versus_Armed</th>\n",
       "      <th>m.RR_Hispanic_Unarmed_Versus_Armed</th>\n",
       "    </tr>\n",
       "  </thead>\n",
       "  <tbody>\n",
       "    <tr>\n",
       "      <th>0</th>\n",
       "      <td>2.79</td>\n",
       "      <td>3.33</td>\n",
       "      <td>3.08</td>\n",
       "      <td>2.94</td>\n",
       "      <td>1.57</td>\n",
       "      <td>3.49</td>\n",
       "      <td>1.67</td>\n",
       "      <td>1.04</td>\n",
       "      <td>0.52</td>\n",
       "      <td>0.358423</td>\n",
       "      <td>0.3003</td>\n",
       "      <td>0.324675</td>\n",
       "    </tr>\n",
       "  </tbody>\n",
       "</table>\n",
       "</div>"
      ],
      "text/plain": [
       "   m.RR_Black_Armed_Versus_Unarmed  m.RR_White_Armed_Versus_Unarmed  \\\n",
       "0                             2.79                             3.33   \n",
       "\n",
       "   m.RR_Hispanic_Armed_Versus_Unarmed  m.RR_Black_Armed_Versus_White_Armed  \\\n",
       "0                                3.08                                 2.94   \n",
       "\n",
       "   m.RR_Hispanic_Armed_Versus_White_Armed  \\\n",
       "0                                    1.57   \n",
       "\n",
       "   m.RR_Black_Unarmed_Versus_White_Unarmed  \\\n",
       "0                                     3.49   \n",
       "\n",
       "   m.RR_Hispanic_Unarmed_Versus_White_Unarmed  \\\n",
       "0                                        1.67   \n",
       "\n",
       "   m.RR_Black_Unarmed_Versus_White_Armed  \\\n",
       "0                                   1.04   \n",
       "\n",
       "   m.RR_Hispanic_Unarmed_Versus_White_Armed  m.RR_Black_Unarmed_Versus_Armed  \\\n",
       "0                                      0.52                         0.358423   \n",
       "\n",
       "   m.RR_White_Unarmed_Versus_Armed  m.RR_Hispanic_Unarmed_Versus_Armed  \n",
       "0                           0.3003                            0.324675  "
      ]
     },
     "execution_count": 327,
     "metadata": {},
     "output_type": "execute_result"
    }
   ],
   "source": [
    "national_data"
   ]
  },
  {
   "cell_type": "markdown",
   "metadata": {},
   "source": [
    "# Unarmed vs. Unarmed"
   ]
  },
  {
   "cell_type": "code",
   "execution_count": 328,
   "metadata": {
    "collapsed": true
   },
   "outputs": [],
   "source": [
    "features = ['m.RR_Black_Unarmed_Versus_White_Unarmed', 'm.RR_Hispanic_Unarmed_Versus_White_Unarmed']"
   ]
  },
  {
   "cell_type": "code",
   "execution_count": 329,
   "metadata": {},
   "outputs": [
    {
     "data": {
      "image/png": "[encoded data removed]",
      "text/plain": [
       "<matplotlib.figure.Figure at 0x11b869400>"
      ]
     },
     "metadata": {},
     "output_type": "display_data"
    }
   ],
   "source": [
    "reload(analysis)\n",
    "plt.close()\n",
    "max_ratio = analysis.get_max_ratio(national_data, local_data, county, features)\n",
    "height = 2 * len(features) + len(features) // 2 + 1\n",
    "f = plt.figure(figsize=(2 * np.ceil(max_ratio), height))\n",
    "ax = f.add_axes([.2, .2, .8, .8])\n",
    "\n",
    "analysis.make_barplot(national_data, local_data, county, features, np.ceil(max_ratio), ax)\n",
    "plt.savefig('{}_{}.png'.format(county, 'U-U'), dpi=300)"
   ]
  },
  {
   "cell_type": "markdown",
   "metadata": {},
   "source": [
    "# Armed vs. Armed"
   ]
  },
  {
   "cell_type": "code",
   "execution_count": 330,
   "metadata": {
    "collapsed": true
   },
   "outputs": [],
   "source": [
    "features = ['m.RR_Black_Armed_Versus_White_Armed', 'm.RR_Hispanic_Armed_Versus_White_Armed']"
   ]
  },
  {
   "cell_type": "code",
   "execution_count": 331,
   "metadata": {
    "scrolled": false
   },
   "outputs": [
    {
     "data": {
      "image/png": "[encoded data removed]",
      "text/plain": [
       "<matplotlib.figure.Figure at 0x1176216d8>"
      ]
     },
     "metadata": {},
     "output_type": "display_data"
    }
   ],
   "source": [
    "reload(analysis)\n",
    "plt.close()\n",
    "max_ratio = analysis.get_max_ratio(national_data, local_data, county, features)\n",
    "height = 2 * len(features) + len(features) // 2 + 1\n",
    "f = plt.figure(figsize=(2 * np.ceil(max_ratio), height))\n",
    "ax = f.add_axes([.2, .2, .8, .8])\n",
    "\n",
    "analysis.make_barplot(national_data, local_data, county, features, np.ceil(max_ratio), ax)\n",
    "plt.savefig('{}_{}.png'.format(county, 'A-A'), dpi=300)"
   ]
  },
  {
   "cell_type": "markdown",
   "metadata": {},
   "source": [
    "# Unarmed vs. Armed"
   ]
  },
  {
   "cell_type": "code",
   "execution_count": 332,
   "metadata": {
    "collapsed": true
   },
   "outputs": [],
   "source": [
    "features = ['m.RR_Black_Unarmed_Versus_White_Armed',\n",
    "            'm.RR_Hispanic_Unarmed_Versus_White_Armed',\n",
    "            'm.RR_White_Unarmed_Versus_Armed']"
   ]
  },
  {
   "cell_type": "code",
   "execution_count": 333,
   "metadata": {},
   "outputs": [
    {
     "data": {
      "image/png": "[encoded data removed]",
      "text/plain": [
       "<matplotlib.figure.Figure at 0x1182414e0>"
      ]
     },
     "metadata": {},
     "output_type": "display_data"
    }
   ],
   "source": [
    "reload(analysis)\n",
    "plt.close()\n",
    "max_ratio = analysis.get_max_ratio(national_data, local_data, county, features)\n",
    "height = 2 * len(features) + len(features) // 2 + 1\n",
    "f = plt.figure(figsize=(2 * np.ceil(max_ratio), height))\n",
    "ax = f.add_axes([.2, .2, .8, .8])\n",
    "\n",
    "analysis.make_barplot(national_data, local_data, county, features, np.ceil(max_ratio), ax)\n",
    "plt.savefig('{}_{}.png'.format(county, 'U-A'), dpi=300)"
   ]
  },
  {
   "cell_type": "code",
   "execution_count": null,
   "metadata": {
    "collapsed": true
   },
   "outputs": [],
   "source": []
  }
 ],
 "metadata": {
  "kernelspec": {
   "display_name": "Python [default]",
   "language": "python",
   "name": "python3"
  },
  "language_info": {
   "codemirror_mode": {
    "name": "ipython",
    "version": 3
   },
   "file_extension": ".py",
   "mimetype": "text/x-python",
   "name": "python",
   "nbconvert_exporter": "python",
   "pygments_lexer": "ipython3",
   "version": "3.5.3"
  }
 },
 "nbformat": 4,
 "nbformat_minor": 2
}
